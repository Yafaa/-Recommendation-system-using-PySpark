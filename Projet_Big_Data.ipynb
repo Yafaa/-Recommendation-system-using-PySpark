{
  "nbformat": 4,
  "nbformat_minor": 0,
  "metadata": {
    "colab": {
      "name": "Projet Big Data.ipynb",
      "provenance": []
    },
    "kernelspec": {
      "name": "python3",
      "display_name": "Python 3"
    }
  },
  "cells": [
    {
      "cell_type": "markdown",
      "metadata": {
        "id": "08dFEhn5PQL-"
      },
      "source": [
        "# Big Data Project \n",
        "**Mohamed Mbarek** \\\n",
        "**Yafaa Ben Tili** \\\n",
        "3e Info C"
      ]
    },
    {
      "cell_type": "markdown",
      "metadata": {
        "id": "WCab4yTHPZgG"
      },
      "source": [
        "Als Recommender System Pyspark Lab\n",
        "Introduction\n",
        "In this Project, we will implement a  recommendation system using ALS in Spark programming environment. \\\n",
        "Spark's machine learning library ml comes packaged with a very efficient implementation of the ALS algorithm that we looked at in the previous lesson. The lab will require you to put into practice your Spark programming skills for creating and manipulating PySpark DataFrames. We will go through a step-by-step process into developing a movie recommendation system using ALS and PySpark using the MovieLens dataset that we used in a previous lab."
      ]
    },
    {
      "cell_type": "markdown",
      "metadata": {
        "id": "FOQKawFOQDKH"
      },
      "source": [
        "**Part 1 : install all the modules**"
      ]
    },
    {
      "cell_type": "code",
      "metadata": {
        "id": "o4beG_k9OOwU"
      },
      "source": [
        "# innstall java\n",
        "!apt-get install openjdk-8-jdk-headless -qq > /dev/null\n",
        "\n",
        "# install spark (change the version number if needed)\n",
        "!wget -q https://archive.apache.org/dist/spark/spark-3.0.0/spark-3.0.0-bin-hadoop3.2.tgz\n",
        "\n",
        "# unzip the spark file to the current folder\n",
        "!tar xf spark-3.0.0-bin-hadoop3.2.tgz\n",
        "\n",
        "# set your spark folder to your system path environment. \n",
        "import os\n",
        "os.environ[\"JAVA_HOME\"] = \"/usr/lib/jvm/java-8-openjdk-amd64\"\n",
        "os.environ[\"SPARK_HOME\"] = \"/content/spark-3.0.0-bin-hadoop3.2\"\n",
        "\n",
        "\n",
        "# install findspark using pip\n",
        "!pip install -q findspark\n"
      ],
      "execution_count": null,
      "outputs": []
    },
    {
      "cell_type": "code",
      "metadata": {
        "colab": {
          "base_uri": "https://localhost:8080/"
        },
        "id": "V8t1-dWWQOIO",
        "outputId": "13aa7561-d856-4e9d-b8f5-c8f0155901a4"
      },
      "source": [
        "!pip install pyspark"
      ],
      "execution_count": null,
      "outputs": [
        {
          "output_type": "stream",
          "text": [
            "Requirement already satisfied: pyspark in /usr/local/lib/python3.6/dist-packages (3.0.1)\n",
            "Requirement already satisfied: py4j==0.10.9 in /usr/local/lib/python3.6/dist-packages (from pyspark) (0.10.9)\n"
          ],
          "name": "stdout"
        }
      ]
    },
    {
      "cell_type": "code",
      "metadata": {
        "id": "4dEZo_DyQPDD"
      },
      "source": [
        "import pyspark\n",
        "sc = pyspark.SparkContext(appName=\"yourAppName\")"
      ],
      "execution_count": null,
      "outputs": []
    },
    {
      "cell_type": "code",
      "metadata": {
        "colab": {
          "base_uri": "https://localhost:8080/"
        },
        "id": "XEavEBajQQn8",
        "outputId": "39b15a3e-f146-49a6-f543-632b1448f1b8"
      },
      "source": [
        "print(sc)"
      ],
      "execution_count": null,
      "outputs": [
        {
          "output_type": "stream",
          "text": [
            "<SparkContext master=local[*] appName=yourAppName>\n"
          ],
          "name": "stdout"
        }
      ]
    },
    {
      "cell_type": "code",
      "metadata": {
        "colab": {
          "base_uri": "https://localhost:8080/"
        },
        "id": "YUf7jD2IQRvR",
        "outputId": "b4aa0d17-2693-4382-e238-1743a20455c0"
      },
      "source": [
        "from pyspark.sql import SparkSession\n",
        "spark = SparkSession.builder.master(\"local[*]\").getOrCreate()\n",
        "# Test the spark\n",
        "df = spark.createDataFrame([{\"hello\": \"world\"} for x in range(1000)])\n",
        "df.show(3, False)"
      ],
      "execution_count": null,
      "outputs": [
        {
          "output_type": "stream",
          "text": [
            "/usr/local/lib/python3.6/dist-packages/pyspark/sql/session.py:381: UserWarning: inferring schema from dict is deprecated,please use pyspark.sql.Row instead\n",
            "  warnings.warn(\"inferring schema from dict is deprecated,\"\n"
          ],
          "name": "stderr"
        },
        {
          "output_type": "stream",
          "text": [
            "+-----+\n",
            "|hello|\n",
            "+-----+\n",
            "|world|\n",
            "|world|\n",
            "|world|\n",
            "+-----+\n",
            "only showing top 3 rows\n",
            "\n"
          ],
          "name": "stdout"
        }
      ]
    },
    {
      "cell_type": "code",
      "metadata": {
        "colab": {
          "base_uri": "https://localhost:8080/"
        },
        "id": "Txt3yNAAQTxW",
        "outputId": "4dcbb2ff-0237-4e0e-c80c-a574cf0a1bdb"
      },
      "source": [
        "df.show(10, False)"
      ],
      "execution_count": null,
      "outputs": [
        {
          "output_type": "stream",
          "text": [
            "+-----+\n",
            "|hello|\n",
            "+-----+\n",
            "|world|\n",
            "|world|\n",
            "|world|\n",
            "|world|\n",
            "|world|\n",
            "|world|\n",
            "|world|\n",
            "|world|\n",
            "|world|\n",
            "|world|\n",
            "+-----+\n",
            "only showing top 10 rows\n",
            "\n"
          ],
          "name": "stdout"
        }
      ]
    },
    {
      "cell_type": "markdown",
      "metadata": {
        "id": "My6fnOQZQYsA"
      },
      "source": [
        "**Part 2 :Exploratory Data Analysis (EDA) using Pyspark**"
      ]
    },
    {
      "cell_type": "code",
      "metadata": {
        "colab": {
          "base_uri": "https://localhost:8080/"
        },
        "id": "HYDR6c74R4g3",
        "outputId": "1293c154-8d0d-4645-f974-94af752275f1"
      },
      "source": [
        "# Get data\n",
        "ratings = spark.read.option(\"header\", \"true\").csv(\"ratings.csv\")\n",
        "ratings.show(5)"
      ],
      "execution_count": null,
      "outputs": [
        {
          "output_type": "stream",
          "text": [
            "+------+-------+------+---------+\n",
            "|userId|movieId|rating|timestamp|\n",
            "+------+-------+------+---------+\n",
            "|     1|      1|   4.0|964982703|\n",
            "|     1|      3|   4.0|964981247|\n",
            "|     1|      6|   4.0|964982224|\n",
            "|     1|     47|   5.0|964983815|\n",
            "|     1|     50|   5.0|964982931|\n",
            "+------+-------+------+---------+\n",
            "only showing top 5 rows\n",
            "\n"
          ],
          "name": "stdout"
        }
      ]
    },
    {
      "cell_type": "code",
      "metadata": {
        "colab": {
          "base_uri": "https://localhost:8080/"
        },
        "id": "mgdxmJCRTTDp",
        "outputId": "f0d07c02-4070-4feb-9033-934cb94b6b59"
      },
      "source": [
        "ratings.printSchema()"
      ],
      "execution_count": null,
      "outputs": [
        {
          "output_type": "stream",
          "text": [
            "root\n",
            " |-- userId: string (nullable = true)\n",
            " |-- movieId: string (nullable = true)\n",
            " |-- rating: string (nullable = true)\n",
            " |-- timestamp: string (nullable = true)\n",
            "\n"
          ],
          "name": "stdout"
        }
      ]
    },
    {
      "cell_type": "code",
      "metadata": {
        "colab": {
          "base_uri": "https://localhost:8080/"
        },
        "id": "v0jc5YG2TVAn",
        "outputId": "ef32bde0-f5bb-48ce-a5ba-60e3c435a4ab"
      },
      "source": [
        "movies = spark.read.option(\"header\", \"true\").csv(\"movies.csv\")\n",
        "movies.show(5)"
      ],
      "execution_count": null,
      "outputs": [
        {
          "output_type": "stream",
          "text": [
            "+-------+--------------------+--------------------+\n",
            "|movieId|               title|              genres|\n",
            "+-------+--------------------+--------------------+\n",
            "|      1|    Toy Story (1995)|Adventure|Animati...|\n",
            "|      2|      Jumanji (1995)|Adventure|Childre...|\n",
            "|      3|Grumpier Old Men ...|      Comedy|Romance|\n",
            "|      4|Waiting to Exhale...|Comedy|Drama|Romance|\n",
            "|      5|Father of the Bri...|              Comedy|\n",
            "+-------+--------------------+--------------------+\n",
            "only showing top 5 rows\n",
            "\n"
          ],
          "name": "stdout"
        }
      ]
    },
    {
      "cell_type": "code",
      "metadata": {
        "id": "uhARdcy1TWju"
      },
      "source": [
        "from pyspark.sql.functions import *\n",
        "\n",
        "most_popular = ratings\\\n",
        ".groupBy(\"movieId\")\\\n",
        ".agg(count(\"userId\"))\\\n",
        ".withColumnRenamed(\"count(userId)\", \"num_ratings\")\\\n",
        ".sort(desc(\"num_ratings\"))"
      ],
      "execution_count": null,
      "outputs": []
    },
    {
      "cell_type": "code",
      "metadata": {
        "colab": {
          "base_uri": "https://localhost:8080/"
        },
        "id": "alKj83g7TZYW",
        "outputId": "a1f89fca-3e73-4cfc-8065-658e532f5f1d"
      },
      "source": [
        "most_popular.show(15)"
      ],
      "execution_count": null,
      "outputs": [
        {
          "output_type": "stream",
          "text": [
            "+-------+-----------+\n",
            "|movieId|num_ratings|\n",
            "+-------+-----------+\n",
            "|    356|        329|\n",
            "|    318|        317|\n",
            "|    296|        307|\n",
            "|    593|        279|\n",
            "|   2571|        278|\n",
            "|    260|        251|\n",
            "|    480|        238|\n",
            "|    110|        237|\n",
            "|    589|        224|\n",
            "|    527|        220|\n",
            "|   2959|        218|\n",
            "|      1|        215|\n",
            "|   1196|        211|\n",
            "|     50|        204|\n",
            "|   2858|        204|\n",
            "+-------+-----------+\n",
            "only showing top 15 rows\n",
            "\n"
          ],
          "name": "stdout"
        }
      ]
    },
    {
      "cell_type": "code",
      "metadata": {
        "colab": {
          "base_uri": "https://localhost:8080/"
        },
        "id": "eOV42_IlTdZ2",
        "outputId": "59776be9-d19f-4d4a-de03-4a72a32e340c"
      },
      "source": [
        "most_popular_movies = most_popular.join(movies, most_popular.movieId == movies.movieId)\n",
        "most_popular_movies.show(20, truncate=False)"
      ],
      "execution_count": null,
      "outputs": [
        {
          "output_type": "stream",
          "text": [
            "+-------+-----------+-------+-----------------------------------------+-------------------------------------------+\n",
            "|movieId|num_ratings|movieId|title                                    |genres                                     |\n",
            "+-------+-----------+-------+-----------------------------------------+-------------------------------------------+\n",
            "|296    |307        |296    |Pulp Fiction (1994)                      |Comedy|Crime|Drama|Thriller                |\n",
            "|1090   |63         |1090   |Platoon (1986)                           |Drama|War                                  |\n",
            "|115713 |28         |115713 |Ex Machina (2015)                        |Drama|Sci-Fi|Thriller                      |\n",
            "|3210   |42         |3210   |Fast Times at Ridgemont High (1982)      |Comedy|Drama|Romance                       |\n",
            "|88140  |32         |88140  |Captain America: The First Avenger (2011)|Action|Adventure|Sci-Fi|Thriller|War       |\n",
            "|829    |9          |829    |Joe's Apartment (1996)                   |Comedy|Fantasy|Musical                     |\n",
            "|2088   |18         |2088   |Popeye (1980)                            |Adventure|Comedy|Musical                   |\n",
            "|2294   |45         |2294   |Antz (1998)                              |Adventure|Animation|Children|Comedy|Fantasy|\n",
            "|4821   |5          |4821   |Joy Ride (2001)                          |Adventure|Thriller                         |\n",
            "|48738  |20         |48738  |Last King of Scotland, The (2006)        |Drama|Thriller                             |\n",
            "|3959   |8          |3959   |Time Machine, The (1960)                 |Action|Adventure|Sci-Fi                    |\n",
            "|89864  |19         |89864  |50/50 (2011)                             |Comedy|Drama                               |\n",
            "|2136   |14         |2136   |Nutty Professor, The (1963)              |Comedy|Sci-Fi                              |\n",
            "|691    |3          |691    |Mrs. Winterbourne (1996)                 |Comedy|Romance                             |\n",
            "|3606   |4          |3606   |On the Town (1949)                       |Comedy|Musical|Romance                     |\n",
            "|121007 |1          |121007 |Space Buddies (2009)                     |Adventure|Children|Fantasy|Sci-Fi          |\n",
            "|6731   |8          |6731   |Day of the Dead (1985)                   |Horror|Sci-Fi|Thriller                     |\n",
            "|27317  |6          |27317  |Audition (Ôdishon) (1999)                |Drama|Horror|Mystery|Romance|Thriller      |\n",
            "|26082  |3          |26082  |Harakiri (Seppuku) (1962)                |Drama                                      |\n",
            "|100553 |2          |100553 |Frozen Planet (2011)                     |Documentary                                |\n",
            "+-------+-----------+-------+-----------------------------------------+-------------------------------------------+\n",
            "only showing top 20 rows\n",
            "\n"
          ],
          "name": "stdout"
        }
      ]
    },
    {
      "cell_type": "code",
      "metadata": {
        "id": "LIZj4fk0Tfor"
      },
      "source": [
        "top_rated = ratings\\\n",
        ".groupBy(\"movieId\")\\\n",
        ".agg(avg(col(\"rating\")))\\\n",
        ".withColumnRenamed(\"avg(rating)\", \"avg_rating\")\\\n",
        ".sort(desc(\"avg_rating\"))"
      ],
      "execution_count": null,
      "outputs": []
    },
    {
      "cell_type": "code",
      "metadata": {
        "colab": {
          "base_uri": "https://localhost:8080/"
        },
        "id": "lMRME7PRTi5e",
        "outputId": "e65d3c16-06b4-455d-86ef-deda2d564017"
      },
      "source": [
        "top_rated_movies = top_rated.join(movies, top_rated.movieId == movies.movieId)\n",
        "top_rated_movies.show(15)"
      ],
      "execution_count": null,
      "outputs": [
        {
          "output_type": "stream",
          "text": [
            "+-------+------------------+-------+--------------------+--------------------+\n",
            "|movieId|        avg_rating|movieId|               title|              genres|\n",
            "+-------+------------------+-------+--------------------+--------------------+\n",
            "|    296| 4.197068403908795|    296| Pulp Fiction (1994)|Comedy|Crime|Dram...|\n",
            "|   1090| 3.984126984126984|   1090|      Platoon (1986)|           Drama|War|\n",
            "| 115713|3.9107142857142856| 115713|   Ex Machina (2015)|Drama|Sci-Fi|Thri...|\n",
            "|   3210|3.4761904761904763|   3210|Fast Times at Rid...|Comedy|Drama|Romance|\n",
            "|  88140|          3.546875|  88140|Captain America: ...|Action|Adventure|...|\n",
            "|    829|2.6666666666666665|    829|Joe's Apartment (...|Comedy|Fantasy|Mu...|\n",
            "|   2088|               2.5|   2088|       Popeye (1980)|Adventure|Comedy|...|\n",
            "|   2294|3.2444444444444445|   2294|         Antz (1998)|Adventure|Animati...|\n",
            "|   4821|               3.1|   4821|     Joy Ride (2001)|  Adventure|Thriller|\n",
            "|  48738|             3.975|  48738|Last King of Scot...|      Drama|Thriller|\n",
            "|   3959|             3.625|   3959|Time Machine, The...|Action|Adventure|...|\n",
            "|  89864|3.6315789473684212|  89864|        50/50 (2011)|        Comedy|Drama|\n",
            "|   2136|2.4642857142857144|   2136|Nutty Professor, ...|       Comedy|Sci-Fi|\n",
            "|    691|3.3333333333333335|    691|Mrs. Winterbourne...|      Comedy|Romance|\n",
            "|   3606|              3.75|   3606|  On the Town (1949)|Comedy|Musical|Ro...|\n",
            "+-------+------------------+-------+--------------------+--------------------+\n",
            "only showing top 15 rows\n",
            "\n"
          ],
          "name": "stdout"
        }
      ]
    },
    {
      "cell_type": "code",
      "metadata": {
        "id": "1kUtBWklTlwp"
      },
      "source": [
        "top_rated = ratings\\\n",
        ".groupBy(\"movieId\")\\\n",
        ".agg(count(\"userId\"), avg(col(\"rating\")))\\\n",
        ".withColumnRenamed(\"count(userId)\", \"num_ratings\")\\\n",
        ".withColumnRenamed(\"avg(rating)\", \"avg_rating\")"
      ],
      "execution_count": null,
      "outputs": []
    },
    {
      "cell_type": "code",
      "metadata": {
        "colab": {
          "base_uri": "https://localhost:8080/"
        },
        "id": "onmNcnLMToGS",
        "outputId": "78048700-2fbc-486d-86e9-c021420a099d"
      },
      "source": [
        "top_rated_movies = top_rated.join(movies, top_rated.movieId == movies.movieId).sort(desc(\"avg_rating\"), desc(\"num_ratings\"))\n",
        "top_rated_movies.show(15)"
      ],
      "execution_count": null,
      "outputs": [
        {
          "output_type": "stream",
          "text": [
            "+-------+-----------+----------+-------+--------------------+--------------------+\n",
            "|movieId|num_ratings|avg_rating|movieId|               title|              genres|\n",
            "+-------+-----------+----------+-------+--------------------+--------------------+\n",
            "|   3473|          2|       5.0|   3473|Jonah Who Will Be...|              Comedy|\n",
            "|   6818|          2|       5.0|   6818|Come and See (Idi...|           Drama|War|\n",
            "|     99|          2|       5.0|     99|Heidi Fleiss: Hol...|         Documentary|\n",
            "|  78836|          2|       5.0|  78836|Enter the Void (2...|               Drama|\n",
            "|     53|          2|       5.0|     53|     Lamerica (1994)|     Adventure|Drama|\n",
            "|   6442|          2|       5.0|   6442| Belle époque (1992)|      Comedy|Romance|\n",
            "|   1151|          2|       5.0|   1151| Lesson Faust (1994)|Animation|Comedy|...|\n",
            "|   6402|          1|       5.0|   6402|  Siam Sunset (1999)|              Comedy|\n",
            "| 149508|          1|       5.0| 149508|   Spellbound (2011)|      Comedy|Romance|\n",
            "|   5059|          1|       5.0|   5059|Little Dieter Nee...|         Documentary|\n",
            "|   1349|          1|       5.0|   1349|Vampire in Venice...|              Horror|\n",
            "|  67618|          1|       5.0|  67618|Strictly Sexual (...|Comedy|Drama|Romance|\n",
            "| 140627|          1|       5.0| 140627|Battle For Sevast...|   Drama|Romance|War|\n",
            "| 147330|          1|       5.0| 147330|Sherlock Holmes a...|               Crime|\n",
            "| 139640|          1|       5.0| 139640|Ooops! Noah is Go...|           Animation|\n",
            "+-------+-----------+----------+-------+--------------------+--------------------+\n",
            "only showing top 15 rows\n",
            "\n"
          ],
          "name": "stdout"
        }
      ]
    },
    {
      "cell_type": "code",
      "metadata": {
        "colab": {
          "base_uri": "https://localhost:8080/"
        },
        "id": "FsTP1NuuTpzm",
        "outputId": "c3f2b36c-3ab3-4684-9e72-b0725150d1ca"
      },
      "source": [
        "# Calculate average, minimum, and maximum of num_ratings\n",
        "top_rated_movies.select([mean('num_ratings'), min('num_ratings'), max('num_ratings')]).show(1)"
      ],
      "execution_count": null,
      "outputs": [
        {
          "output_type": "stream",
          "text": [
            "+------------------+----------------+----------------+\n",
            "|  avg(num_ratings)|min(num_ratings)|max(num_ratings)|\n",
            "+------------------+----------------+----------------+\n",
            "|10.369806663924312|               1|             329|\n",
            "+------------------+----------------+----------------+\n",
            "\n"
          ],
          "name": "stdout"
        }
      ]
    },
    {
      "cell_type": "markdown",
      "metadata": {
        "id": "3tVnqH84QlR2"
      },
      "source": [
        "**Part 3 : Machine learning and Recommender System**"
      ]
    },
    {
      "cell_type": "code",
      "metadata": {
        "id": "Etkw8ASoQk_G"
      },
      "source": [
        "ratings = spark.read.option(\"inferSchema\",True).option(\"header\",True).csv(\"ratings.csv\")\n"
      ],
      "execution_count": null,
      "outputs": []
    },
    {
      "cell_type": "code",
      "metadata": {
        "colab": {
          "base_uri": "https://localhost:8080/"
        },
        "id": "UaDHLFgvRWpT",
        "outputId": "c307ec08-5ec5-45ce-be6a-72329eca7f14"
      },
      "source": [
        "ratings.show(5)"
      ],
      "execution_count": null,
      "outputs": [
        {
          "output_type": "stream",
          "text": [
            "+------+-------+------+---------+\n",
            "|userId|movieId|rating|timestamp|\n",
            "+------+-------+------+---------+\n",
            "|     1|      1|   4.0|964982703|\n",
            "|     1|      3|   4.0|964981247|\n",
            "|     1|      6|   4.0|964982224|\n",
            "|     1|     47|   5.0|964983815|\n",
            "|     1|     50|   5.0|964982931|\n",
            "+------+-------+------+---------+\n",
            "only showing top 5 rows\n",
            "\n"
          ],
          "name": "stdout"
        }
      ]
    },
    {
      "cell_type": "code",
      "metadata": {
        "id": "qVEyriBnRfh-"
      },
      "source": [
        "from pyspark.ml.recommendation import ALS\n",
        "als = ALS(maxIter=10, regParam=0.5, userCol=\"userId\", \n",
        "                      itemCol = \"movieId\", ratingCol =    \"rating\", coldStartStrategy = \"drop\")\n",
        "train, test = ratings.randomSplit([0.8, 0.2])"
      ],
      "execution_count": null,
      "outputs": []
    },
    {
      "cell_type": "code",
      "metadata": {
        "colab": {
          "base_uri": "https://localhost:8080/"
        },
        "id": "PySoYcOHRh1K",
        "outputId": "5f26efbf-18bf-4818-deee-60b3477eb85a"
      },
      "source": [
        "#Training the Model\n",
        "alsModel = als.fit(train)\n",
        "#Generating Predictions\n",
        "prediction = alsModel.transform(test)\n",
        "prediction.show(10)"
      ],
      "execution_count": null,
      "outputs": [
        {
          "output_type": "stream",
          "text": [
            "+------+-------+------+----------+----------+\n",
            "|userId|movieId|rating| timestamp|prediction|\n",
            "+------+-------+------+----------+----------+\n",
            "|   218|    471|   4.0|1111624874| 2.7378786|\n",
            "|   176|    471|   5.0| 840109075|  3.370955|\n",
            "|   448|    471|   4.0|1178980875| 2.6990294|\n",
            "|    32|    471|   3.0| 856737165| 3.1321526|\n",
            "|   260|    471|   4.5|1109409455| 3.0542073|\n",
            "|   609|    833|   3.0| 847221080| 1.6091218|\n",
            "|   563|   1088|   4.0|1440793700| 2.9440413|\n",
            "|   555|   1088|   4.0| 978822670| 3.1608918|\n",
            "|    51|   1088|   4.0|1230929736| 3.3741312|\n",
            "|   391|   1088|   1.0|1030824424|  3.071959|\n",
            "+------+-------+------+----------+----------+\n",
            "only showing top 10 rows\n",
            "\n"
          ],
          "name": "stdout"
        }
      ]
    },
    {
      "cell_type": "code",
      "metadata": {
        "colab": {
          "base_uri": "https://localhost:8080/"
        },
        "id": "mwdqkR_yRjTI",
        "outputId": "cdf9b28f-fc3a-41cf-b96c-adcfc1757e92"
      },
      "source": [
        "from pyspark.ml.evaluation import RegressionEvaluator\n",
        "evaluator = RegressionEvaluator(metricName=\"mse\", labelCol=\"rating\",  predictionCol=\"prediction\")\n",
        "mse = evaluator.evaluate(prediction)\n",
        "print(mse)\n"
      ],
      "execution_count": null,
      "outputs": [
        {
          "output_type": "stream",
          "text": [
            "1.0036721546582492\n"
          ],
          "name": "stdout"
        }
      ]
    },
    {
      "cell_type": "code",
      "metadata": {
        "colab": {
          "base_uri": "https://localhost:8080/"
        },
        "id": "7fB7AEzDRo__",
        "outputId": "743bb347-2f3e-4798-ec05-bceba48f1c7f"
      },
      "source": [
        "recommended_movie_df = alsModel.recommendForAllUsers(3)\n",
        "recommended_movie_df.show(10, False)"
      ],
      "execution_count": null,
      "outputs": [
        {
          "output_type": "stream",
          "text": [
            "+------+----------------------------------------------------------+\n",
            "|userId|recommendations                                           |\n",
            "+------+----------------------------------------------------------+\n",
            "|471   |[[40491, 5.46509], [3235, 4.982009], [2314, 4.950876]]    |\n",
            "|463   |[[40491, 5.757683], [3235, 5.2526083], [2314, 5.2190056]] |\n",
            "|496   |[[40491, 5.158339], [3235, 4.7060146], [2314, 4.6764665]] |\n",
            "|148   |[[40491, 5.35207], [3235, 4.8833094], [2314, 4.852128]]   |\n",
            "|540   |[[40491, 6.1194143], [3235, 5.5812225], [2314, 5.5458636]]|\n",
            "|392   |[[40491, 5.1196513], [3235, 4.661579], [2314, 4.6337943]] |\n",
            "|243   |[[40491, 6.63878], [3235, 6.0600753], [2314, 6.020464]]   |\n",
            "|31    |[[40491, 5.724956], [3235, 5.2239046], [2314, 5.190165]]  |\n",
            "|516   |[[40491, 5.4686184], [3235, 4.985235], [2314, 4.9541235]] |\n",
            "|580   |[[40491, 5.259993], [3235, 4.7992754], [2314, 4.7684455]] |\n",
            "+------+----------------------------------------------------------+\n",
            "only showing top 10 rows\n",
            "\n"
          ],
          "name": "stdout"
        }
      ]
    },
    {
      "cell_type": "code",
      "metadata": {
        "colab": {
          "base_uri": "https://localhost:8080/"
        },
        "id": "aiS6-997RpPw",
        "outputId": "ab9ca800-c5bb-4007-b535-3bd9d9f9fe18"
      },
      "source": [
        "recommended_movie_df = alsModel.recommendForAllUsers(5)\n",
        "recommended_movie_df.show(10, False)"
      ],
      "execution_count": null,
      "outputs": [
        {
          "output_type": "stream",
          "text": [
            "+------+--------------------------------------------------------------------------------------------------+\n",
            "|userId|recommendations                                                                                   |\n",
            "+------+--------------------------------------------------------------------------------------------------+\n",
            "|471   |[[40491, 5.46509], [3235, 4.982009], [2314, 4.950876], [156605, 4.918581], [25947, 4.8082123]]    |\n",
            "|463   |[[40491, 5.757683], [3235, 5.2526083], [2314, 5.2190056], [156605, 5.1819143], [25947, 5.0690284]]|\n",
            "|496   |[[40491, 5.158339], [3235, 4.7060146], [2314, 4.6764665], [156605, 4.6425056], [25947, 4.5415425]]|\n",
            "|148   |[[40491, 5.35207], [3235, 4.8833094], [2314, 4.852128], [156605, 4.816863], [25947, 4.7128716]]   |\n",
            "|540   |[[40491, 6.1194143], [3235, 5.5812225], [2314, 5.5458636], [156605, 5.507473], [25947, 5.386301]] |\n",
            "|392   |[[40491, 5.1196513], [3235, 4.661579], [2314, 4.6337943], [156605, 4.6076865], [25947, 4.4993505]]|\n",
            "|243   |[[40491, 6.63878], [3235, 6.0600753], [2314, 6.020464], [156605, 5.974902], [25947, 5.847924]]    |\n",
            "|31    |[[40491, 5.724956], [3235, 5.2239046], [2314, 5.190165], [156605, 5.15246], [25947, 5.0411773]]   |\n",
            "|516   |[[40491, 5.4686184], [3235, 4.985235], [2314, 4.9541235], [156605, 4.9217563], [25947, 4.8112183]]|\n",
            "|580   |[[40491, 5.259993], [3235, 4.7992754], [2314, 4.7684455], [156605, 4.7339935], [25947, 4.6315293]]|\n",
            "+------+--------------------------------------------------------------------------------------------------+\n",
            "only showing top 10 rows\n",
            "\n"
          ],
          "name": "stdout"
        }
      ]
    },
    {
      "cell_type": "code",
      "metadata": {
        "id": "n6Rzp-6PX5jV"
      },
      "source": [
        ""
      ],
      "execution_count": null,
      "outputs": []
    }
  ]
}